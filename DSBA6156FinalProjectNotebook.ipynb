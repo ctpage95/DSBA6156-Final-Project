{
 "cells": [
  {
   "cell_type": "markdown",
   "metadata": {},
   "source": [
    "# DSBA 6156 - Final Project\n",
    "## Predicting March Madness Results\n",
    "<img src=\"download.jpeg\" width=80, height=80/>\n",
    "\n",
    "---"
   ]
  },
  {
   "cell_type": "markdown",
   "metadata": {},
   "source": [
    "### Import dependencies"
   ]
  },
  {
   "cell_type": "code",
   "execution_count": 10,
   "metadata": {},
   "outputs": [],
   "source": [
    "import pandas as pd\n",
    "import numpy as np\n",
    "import os\n",
    "import requests\n",
    "from bs4 import BeautifulSoup\n",
    "import re"
   ]
  },
  {
   "cell_type": "markdown",
   "metadata": {},
   "source": [
    "### Gather the data we are going to use from the web\n",
    "Source: www.sports-reference.com"
   ]
  },
  {
   "cell_type": "code",
   "execution_count": 11,
   "metadata": {},
   "outputs": [],
   "source": [
    "# # Scrape data off of the web - exported to CSV\n",
    "\n",
    "# years = list(range(1993, 2023))\n",
    "# all_data = pd.DataFrame()\n",
    "# for i in range(0,len(years)):\n",
    "#     table = pd.read_html(f\"https://www.sports-reference.com/cbb/seasons/{years[i]}-school-stats.html\",\n",
    "#                      header = 1)\n",
    "#     df = pd.DataFrame(table[0])\n",
    "#     df = df[df['Rk'].notna()]\n",
    "#     df = df[df['Rk'] != 'Rk']\n",
    "#     df['School'] = df['School'].str.replace(\"NCAA\",\"\")\n",
    "#     df['Year'] = years[i]\n",
    "#     #df = df.loc[:,df.notna().any(axis=0)]\n",
    "#     all_data = all_data.append(df, ignore_index=True)\n",
    "    \n",
    "# # Export data to CSV to avoid rerunning code every time\n",
    "# all_data.to_csv(\"AllData1993to2022.csv\", header = True)"
   ]
  },
  {
   "cell_type": "markdown",
   "metadata": {},
   "source": [
    "### Read in the csv file we created and clean the data"
   ]
  },
  {
   "cell_type": "code",
   "execution_count": 17,
   "metadata": {},
   "outputs": [],
   "source": [
    "bbdata = pd.read_csv(\"AllData1993to2022.csv\")\n",
    "bbdata[\"School\"] = bbdata[\"School\"].str.replace(u'\\xa0', u' ').str.strip()\n",
    "bbdata[\"Year\"] = bbdata[\"Year\"].astype(str)"
   ]
  },
  {
   "cell_type": "markdown",
   "metadata": {},
   "source": [
    "### Read in more data from the web. This will give us the winner of the NCAA tournament each year. We will also clean this data to make sure the data is able to link to our original table properly\n",
    "\n",
    "Source: https://en.wikipedia.org/wiki/List_of_NCAA_Division_I_men%27s_basketball_champions"
   ]
  },
  {
   "cell_type": "code",
   "execution_count": 18,
   "metadata": {
    "scrolled": true
   },
   "outputs": [],
   "source": [
    "champs = pd.read_html(\"https://en.wikipedia.org/wiki/List_of_NCAA_Division_I_men%27s_basketball_champions\")\n",
    "champs = champs[1].iloc[:,0:2]\n",
    "champs.drop(champs[champs['Year'] == 2020].index, inplace = True)\n",
    "champs[\"Year\"] = champs[\"Year\"].astype(str).str.strip()"
   ]
  },
  {
   "cell_type": "markdown",
   "metadata": {},
   "source": [
    "### Merge the two tables together and create a new IsWinner variable. This value will be a 1 if the school is won that year, it will be a 0 if the school did not win"
   ]
  },
  {
   "cell_type": "code",
   "execution_count": 19,
   "metadata": {},
   "outputs": [],
   "source": [
    "bbdata = pd.merge(bbdata, champs, how=\"inner\", on=[\"Year\"])\n",
    "bbdata['IsWinner'] = np.where(bbdata['School'] == bbdata[\"Winning team\"], 1, 0)"
   ]
  },
  {
   "cell_type": "markdown",
   "metadata": {},
   "source": [
    "### Read in data for Naismith Player of the Year going back to 1993. If the team has the player for that year, they will be given a 1, if not, a 0"
   ]
  },
  {
   "cell_type": "code",
   "execution_count": 20,
   "metadata": {},
   "outputs": [],
   "source": [
    "mvp = pd.read_html(\"https://en.wikipedia.org/wiki/Naismith_College_Player_of_the_Year\")\n",
    "mvp = mvp[2]\n",
    "mvp = mvp[['Year', 'College', 'Player']]\n",
    "mvp['Year'] = mvp['Year'].astype(str)\n",
    "mvp = mvp.rename(columns={'College': 'NaismithCollege'})\n",
    "bbdata = pd.merge(bbdata, mvp, how=\"left\", on=[\"Year\"])\n",
    "bbdata['HasNaismithPlayer'] = np.where(bbdata['School'] == bbdata['NaismithCollege'], 1, 0)"
   ]
  },
  {
   "cell_type": "markdown",
   "metadata": {},
   "source": [
    "### The below code gets the conference. Some code is missing so it will most likely not run if ran again"
   ]
  },
  {
   "cell_type": "code",
   "execution_count": 21,
   "metadata": {},
   "outputs": [],
   "source": [
    "# school_urls = list(bbdata[\"School\"].str.replace(\".\", \"\").str.lower().str.replace(\"&\", \"\").str.replace(\" \", \"-\").str.replace(\"(\", \"\").str.replace(\")\", \"\").str.replace(\"'\", \"\"))\n",
    "# school_urls = list(map(lambda st: str.replace(st, \"--\", \"-\"), school_urls))\n",
    "# school_urls = list(map(lambda st: str.replace(st, \"uab\", \"alabama-birmingham\"), school_urls))\n",
    "# school_urls = list(map(lambda st: str.replace(st, \"unc\", \"north-carolina\"), school_urls))\n",
    "# school_urls = list(map(lambda st: str.replace(st, \"nc-state\", \"north-carolina-state\"), school_urls))\n",
    "# school_urls = list(map(lambda st: str.replace(st, \"unc\", \"north-carolina\"), school_urls))\n",
    "\n",
    "\n",
    "\n",
    "# combined = pd.DataFrame({\"URLs\":school_urls, \n",
    "#                          \"Year\":bbdata['Year']})\n",
    "# combined[\"final_url\"] = combined[\"URLs\"]+\"/\"+combined[\"Year\"]\n",
    "# combined_list = list(combined['final_url'])\n",
    "# combined_list = list(map(lambda st: str.replace(st, \"louisiana/\", \"louisiana-lafayette/\"), combined_list))\n",
    "# combined_list = list(map(lambda st: str.replace(st, \"vmi\", \"virginia-military-institute\"), combined_list))\n",
    "# combined_list = list(map(lambda st: str.replace(st, \"purdue-fort-wayne\", \"ipfw\"), combined_list))\n",
    "# combined_list = list(map(lambda st: str.replace(st, \"texas-rio-grande-valley\", \"texas-pan-american\"), combined_list))\n",
    "# combined_list = list(map(lambda st: str.replace(st, \"utep\", \"texas-el-paso\"), combined_list))\n",
    "# combined_list = list(map(lambda st: str.replace(st, \"tcu\", \"texas-christian\"), combined_list))\n",
    "# combined_list = list(map(lambda st: str.replace(st, \"utsa\", \"texas-san-antonio\"), combined_list))\n",
    "# combined_list = list(map(lambda st: str.replace(st, \"uc-\", \"california-\"), combined_list))\n",
    "\n",
    "\n",
    "# all_conferences2 = []\n",
    "# for i in range(0, len(final_url_list)):\n",
    "#     perc_url = f\"https://www.sports-reference.com/cbb/schools/{final_url_list[i]}.html\"\n",
    "#     r2 = requests.get(perc_url)\n",
    "#     soup2 = BeautifulSoup(r2.text, 'html.parser')\n",
    "\n",
    "#     soup = BeautifulSoup(r2.text, 'html.parser')\n",
    "#     fields = soup.find_all([\"p\", \"strong\"])\n",
    "\n",
    "#     dir_list = []\n",
    "#     for f in fields:\n",
    "#         dir_list.append(f.text)\n",
    "#     try:\n",
    "#         all_conferences2.append(dir_list[3].split(\" in \",-1)[1].split(\")\", 1)[0])\n",
    "#     except:\n",
    "#         all_conferences2.append(\"Error\")\n",
    "\n",
    "\n",
    "# list2 = []\n",
    "# for i in range(0, len(combined_list)):\n",
    "#     list2.append(combined_list[i].split(\"/\",-1)[0])\n",
    "# list2_df = pd.DataFrame(list2, columns=[\"team\"])\n",
    "# unique = list(list2_df[\"team\"].unique())\n",
    "# combined2 = pd.DataFrame(unique, columns=[\"team\"])\n",
    "# combined2[\"year\"] = \"2022\"\n",
    "# combined2[\"url\"] = combined2[\"team\"]+\"/\"+combined2[\"year\"]\n",
    "# combined2[\"conference\"] = all_conferences2\n",
    "# combined2\n",
    "\n",
    "# final_url_list = list(combined2[\"url\"])"
   ]
  },
  {
   "cell_type": "markdown",
   "metadata": {},
   "source": [
    "### Merge the conferences onto the dataset"
   ]
  },
  {
   "cell_type": "code",
   "execution_count": 23,
   "metadata": {},
   "outputs": [],
   "source": [
    "confs_table = pd.read_csv(\"SchoolsWithConfs.csv\")\n",
    "confs_dict = dict(zip(confs_table['School'], confs_table['Conf']))\n",
    "bbdata['Conference'] = bbdata['School'].map(confs_dict)\n",
    "bbdata.to_csv(\"bbdatafull.csv\")"
   ]
  },
  {
   "cell_type": "code",
   "execution_count": null,
   "metadata": {},
   "outputs": [],
   "source": []
  },
  {
   "cell_type": "code",
   "execution_count": null,
   "metadata": {},
   "outputs": [],
   "source": []
  },
  {
   "cell_type": "code",
   "execution_count": null,
   "metadata": {},
   "outputs": [],
   "source": []
  },
  {
   "cell_type": "code",
   "execution_count": null,
   "metadata": {},
   "outputs": [],
   "source": []
  }
 ],
 "metadata": {
  "kernelspec": {
   "display_name": "Python 3",
   "language": "python",
   "name": "python3"
  },
  "language_info": {
   "codemirror_mode": {
    "name": "ipython",
    "version": 3
   },
   "file_extension": ".py",
   "mimetype": "text/x-python",
   "name": "python",
   "nbconvert_exporter": "python",
   "pygments_lexer": "ipython3",
   "version": "3.7.4"
  }
 },
 "nbformat": 4,
 "nbformat_minor": 2
}
